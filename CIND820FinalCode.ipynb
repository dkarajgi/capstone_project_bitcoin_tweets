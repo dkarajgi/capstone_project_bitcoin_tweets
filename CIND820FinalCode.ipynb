{
 "cells": [
  {
   "cell_type": "code",
   "execution_count": 1,
   "metadata": {},
   "outputs": [],
   "source": [
    "import pandas as pd #data manipulation\n",
    "import numpy as np #data manipulation\n",
    "from numpy import mean\n",
    "from numpy import std\n",
    "#from nltk.sentiment.vader import SentimentIntensityAnalyzer\n",
    "from sklearn.model_selection import cross_val_score\n",
    "from sklearn.model_selection import RepeatedStratifiedKFold\n",
    "from sklearn.linear_model import LogisticRegression\n",
    "#from sklearn.model_selection import train_test_split\n",
    "#from sklearn.datasets import make_classification\n",
    "#from sklearn.model_selection import KFold\n",
    "import re #regex\n",
    "import nltk #text processing\n",
    "import matplotlib #visualisation\n",
    "import matplotlib.cm as cm #visualisation\n",
    "import matplotlib.pyplot as plt #visualisation\n",
    "import seaborn as sns #visualisation\n",
    "import warnings #ignore warnings\n",
    "import string #string operations\n",
    "import collections #for counter\n",
    "warnings.filterwarnings('ignore') #ignore warnings\n",
    "%matplotlib inline"
   ]
  },
  {
   "cell_type": "code",
   "execution_count": 2,
   "metadata": {},
   "outputs": [
    {
     "data": {
      "text/html": [
       "<div>\n",
       "<style scoped>\n",
       "    .dataframe tbody tr th:only-of-type {\n",
       "        vertical-align: middle;\n",
       "    }\n",
       "\n",
       "    .dataframe tbody tr th {\n",
       "        vertical-align: top;\n",
       "    }\n",
       "\n",
       "    .dataframe thead th {\n",
       "        text-align: right;\n",
       "    }\n",
       "</style>\n",
       "<table border=\"1\" class=\"dataframe\">\n",
       "  <thead>\n",
       "    <tr style=\"text-align: right;\">\n",
       "      <th></th>\n",
       "      <th>Date</th>\n",
       "      <th>Tweeter</th>\n",
       "      <th>Tweet</th>\n",
       "      <th>Polarity Rate</th>\n",
       "      <th>Sensitivity Rate</th>\n",
       "    </tr>\n",
       "  </thead>\n",
       "  <tbody>\n",
       "    <tr>\n",
       "      <th>0</th>\n",
       "      <td>2018-07-11 19:35:15.363270</td>\n",
       "      <td>b'tj'</td>\n",
       "      <td>b\"Next two weeks prob v boring (climb up to 9k...</td>\n",
       "      <td>0.007273</td>\n",
       "      <td>0.590909</td>\n",
       "    </tr>\n",
       "    <tr>\n",
       "      <th>1</th>\n",
       "      <td>2018-07-11 19:35:15.736769</td>\n",
       "      <td>b'Kool_Kheart'</td>\n",
       "      <td>b'@Miss_rinola But you\\xe2\\x80\\x99ve heard abo...</td>\n",
       "      <td>0.000000</td>\n",
       "      <td>0.000000</td>\n",
       "    </tr>\n",
       "    <tr>\n",
       "      <th>2</th>\n",
       "      <td>2018-07-11 19:35:15.744769</td>\n",
       "      <td>b'Gary Lang'</td>\n",
       "      <td>b'Duplicate skilled traders automatically with...</td>\n",
       "      <td>0.625000</td>\n",
       "      <td>0.500000</td>\n",
       "    </tr>\n",
       "    <tr>\n",
       "      <th>3</th>\n",
       "      <td>2018-07-11 19:35:15.867339</td>\n",
       "      <td>b'Jobs in Fintech'</td>\n",
       "      <td>b'Project Manager - Technical - FinTech - Cent...</td>\n",
       "      <td>0.000000</td>\n",
       "      <td>0.175000</td>\n",
       "    </tr>\n",
       "    <tr>\n",
       "      <th>4</th>\n",
       "      <td>2018-07-11 19:35:16.021448</td>\n",
       "      <td>b'ERC20'</td>\n",
       "      <td>b'Coinbase App Downloads Drop, Crypto Hype Fad...</td>\n",
       "      <td>0.333333</td>\n",
       "      <td>0.500000</td>\n",
       "    </tr>\n",
       "    <tr>\n",
       "      <th>5</th>\n",
       "      <td>2018-07-11 19:35:16.687237</td>\n",
       "      <td>b'Lake_Ocean_Pond'</td>\n",
       "      <td>b'If you don\\xe2\\x80\\x99t understand Bitcoin, ...</td>\n",
       "      <td>0.000000</td>\n",
       "      <td>0.000000</td>\n",
       "    </tr>\n",
       "  </tbody>\n",
       "</table>\n",
       "</div>"
      ],
      "text/plain": [
       "                         Date             Tweeter  \\\n",
       "0  2018-07-11 19:35:15.363270               b'tj'   \n",
       "1  2018-07-11 19:35:15.736769      b'Kool_Kheart'   \n",
       "2  2018-07-11 19:35:15.744769        b'Gary Lang'   \n",
       "3  2018-07-11 19:35:15.867339  b'Jobs in Fintech'   \n",
       "4  2018-07-11 19:35:16.021448            b'ERC20'   \n",
       "5  2018-07-11 19:35:16.687237  b'Lake_Ocean_Pond'   \n",
       "\n",
       "                                               Tweet  Polarity Rate  \\\n",
       "0  b\"Next two weeks prob v boring (climb up to 9k...       0.007273   \n",
       "1  b'@Miss_rinola But you\\xe2\\x80\\x99ve heard abo...       0.000000   \n",
       "2  b'Duplicate skilled traders automatically with...       0.625000   \n",
       "3  b'Project Manager - Technical - FinTech - Cent...       0.000000   \n",
       "4  b'Coinbase App Downloads Drop, Crypto Hype Fad...       0.333333   \n",
       "5  b'If you don\\xe2\\x80\\x99t understand Bitcoin, ...       0.000000   \n",
       "\n",
       "   Sensitivity Rate  \n",
       "0          0.590909  \n",
       "1          0.000000  \n",
       "2          0.500000  \n",
       "3          0.175000  \n",
       "4          0.500000  \n",
       "5          0.000000  "
      ]
     },
     "execution_count": 2,
     "metadata": {},
     "output_type": "execute_result"
    }
   ],
   "source": [
    "#importing CSV\n",
    "data = pd.read_csv('cleanprep.csv',names=['Date','Tweeter','Tweet','Polarity Rate','Sensitivity Rate'])\n",
    "data.head(6)"
   ]
  },
  {
   "cell_type": "code",
   "execution_count": 3,
   "metadata": {},
   "outputs": [
    {
     "data": {
      "text/html": [
       "<div>\n",
       "<style scoped>\n",
       "    .dataframe tbody tr th:only-of-type {\n",
       "        vertical-align: middle;\n",
       "    }\n",
       "\n",
       "    .dataframe tbody tr th {\n",
       "        vertical-align: top;\n",
       "    }\n",
       "\n",
       "    .dataframe thead th {\n",
       "        text-align: right;\n",
       "    }\n",
       "</style>\n",
       "<table border=\"1\" class=\"dataframe\">\n",
       "  <thead>\n",
       "    <tr style=\"text-align: right;\">\n",
       "      <th></th>\n",
       "      <th>Timestamp</th>\n",
       "      <th>Open</th>\n",
       "      <th>High</th>\n",
       "      <th>Low</th>\n",
       "      <th>Close</th>\n",
       "      <th>Volume (BTC)</th>\n",
       "      <th>Volume (Currency)</th>\n",
       "      <th>Weighted Price</th>\n",
       "    </tr>\n",
       "  </thead>\n",
       "  <tbody>\n",
       "    <tr>\n",
       "      <th>0</th>\n",
       "      <td>2018-07-10 01:00</td>\n",
       "      <td>6666.75</td>\n",
       "      <td>6683.90</td>\n",
       "      <td>6635.59</td>\n",
       "      <td>6669.73</td>\n",
       "      <td>281.73</td>\n",
       "      <td>1875693.72</td>\n",
       "      <td>6657.70</td>\n",
       "    </tr>\n",
       "    <tr>\n",
       "      <th>1</th>\n",
       "      <td>2018-07-10 02:00</td>\n",
       "      <td>6662.44</td>\n",
       "      <td>6674.60</td>\n",
       "      <td>6647.00</td>\n",
       "      <td>6647.00</td>\n",
       "      <td>174.10</td>\n",
       "      <td>1160103.29</td>\n",
       "      <td>6663.38</td>\n",
       "    </tr>\n",
       "    <tr>\n",
       "      <th>2</th>\n",
       "      <td>2018-07-10 03:00</td>\n",
       "      <td>6652.52</td>\n",
       "      <td>6662.82</td>\n",
       "      <td>6621.99</td>\n",
       "      <td>6632.53</td>\n",
       "      <td>231.41</td>\n",
       "      <td>1536936.22</td>\n",
       "      <td>6641.70</td>\n",
       "    </tr>\n",
       "    <tr>\n",
       "      <th>3</th>\n",
       "      <td>2018-07-10 04:00</td>\n",
       "      <td>6631.17</td>\n",
       "      <td>6655.48</td>\n",
       "      <td>6625.54</td>\n",
       "      <td>6635.92</td>\n",
       "      <td>120.38</td>\n",
       "      <td>799154.77</td>\n",
       "      <td>6638.52</td>\n",
       "    </tr>\n",
       "    <tr>\n",
       "      <th>4</th>\n",
       "      <td>2018-07-10 05:00</td>\n",
       "      <td>6632.81</td>\n",
       "      <td>6651.06</td>\n",
       "      <td>6627.64</td>\n",
       "      <td>6640.57</td>\n",
       "      <td>94.00</td>\n",
       "      <td>624289.31</td>\n",
       "      <td>6641.32</td>\n",
       "    </tr>\n",
       "    <tr>\n",
       "      <th>5</th>\n",
       "      <td>2018-07-10 06:00</td>\n",
       "      <td>6640.12</td>\n",
       "      <td>6653.46</td>\n",
       "      <td>6620.00</td>\n",
       "      <td>6620.10</td>\n",
       "      <td>133.22</td>\n",
       "      <td>883912.06</td>\n",
       "      <td>6635.05</td>\n",
       "    </tr>\n",
       "  </tbody>\n",
       "</table>\n",
       "</div>"
      ],
      "text/plain": [
       "          Timestamp     Open     High      Low    Close  Volume (BTC)  \\\n",
       "0  2018-07-10 01:00  6666.75  6683.90  6635.59  6669.73        281.73   \n",
       "1  2018-07-10 02:00  6662.44  6674.60  6647.00  6647.00        174.10   \n",
       "2  2018-07-10 03:00  6652.52  6662.82  6621.99  6632.53        231.41   \n",
       "3  2018-07-10 04:00  6631.17  6655.48  6625.54  6635.92        120.38   \n",
       "4  2018-07-10 05:00  6632.81  6651.06  6627.64  6640.57         94.00   \n",
       "5  2018-07-10 06:00  6640.12  6653.46  6620.00  6620.10        133.22   \n",
       "\n",
       "   Volume (Currency)  Weighted Price  \n",
       "0         1875693.72         6657.70  \n",
       "1         1160103.29         6663.38  \n",
       "2         1536936.22         6641.70  \n",
       "3          799154.77         6638.52  \n",
       "4          624289.31         6641.32  \n",
       "5          883912.06         6635.05  "
      ]
     },
     "execution_count": 3,
     "metadata": {},
     "output_type": "execute_result"
    }
   ],
   "source": [
    "#importing BTC Data set\n",
    "BTCdata = pd.read_csv('btcSave2.csv')\n",
    "BTCdata.head(6)"
   ]
  },
  {
   "cell_type": "code",
   "execution_count": 4,
   "metadata": {},
   "outputs": [],
   "source": [
    "#DATA CLEANING"
   ]
  },
  {
   "cell_type": "code",
   "execution_count": 5,
   "metadata": {},
   "outputs": [
    {
     "data": {
      "text/html": [
       "<div>\n",
       "<style scoped>\n",
       "    .dataframe tbody tr th:only-of-type {\n",
       "        vertical-align: middle;\n",
       "    }\n",
       "\n",
       "    .dataframe tbody tr th {\n",
       "        vertical-align: top;\n",
       "    }\n",
       "\n",
       "    .dataframe thead th {\n",
       "        text-align: right;\n",
       "    }\n",
       "</style>\n",
       "<table border=\"1\" class=\"dataframe\">\n",
       "  <thead>\n",
       "    <tr style=\"text-align: right;\">\n",
       "      <th></th>\n",
       "      <th>Date</th>\n",
       "      <th>Tweeter</th>\n",
       "      <th>Tweet</th>\n",
       "      <th>Polarity Rate</th>\n",
       "      <th>Sensitivity Rate</th>\n",
       "    </tr>\n",
       "  </thead>\n",
       "  <tbody>\n",
       "    <tr>\n",
       "      <th>0</th>\n",
       "      <td>2018-07-11 19:35:15.363270</td>\n",
       "      <td>b'tj'</td>\n",
       "      <td>b\"Next two weeks prob v boring (climb up to 9k...</td>\n",
       "      <td>0.007273</td>\n",
       "      <td>0.590909</td>\n",
       "    </tr>\n",
       "    <tr>\n",
       "      <th>1</th>\n",
       "      <td>2018-07-11 19:35:15.736769</td>\n",
       "      <td>b'Kool_Kheart'</td>\n",
       "      <td>b'@Miss_rinola But you\\xe2\\x80\\x99ve heard abo...</td>\n",
       "      <td>0.000000</td>\n",
       "      <td>0.000000</td>\n",
       "    </tr>\n",
       "    <tr>\n",
       "      <th>2</th>\n",
       "      <td>2018-07-11 19:35:15.744769</td>\n",
       "      <td>b'Gary Lang'</td>\n",
       "      <td>b'Duplicate skilled traders automatically with...</td>\n",
       "      <td>0.625000</td>\n",
       "      <td>0.500000</td>\n",
       "    </tr>\n",
       "    <tr>\n",
       "      <th>3</th>\n",
       "      <td>2018-07-11 19:35:15.867339</td>\n",
       "      <td>b'Jobs in Fintech'</td>\n",
       "      <td>b'Project Manager - Technical - FinTech - Cent...</td>\n",
       "      <td>0.000000</td>\n",
       "      <td>0.175000</td>\n",
       "    </tr>\n",
       "    <tr>\n",
       "      <th>4</th>\n",
       "      <td>2018-07-11 19:35:16.021448</td>\n",
       "      <td>b'ERC20'</td>\n",
       "      <td>b'Coinbase App Downloads Drop, Crypto Hype Fad...</td>\n",
       "      <td>0.333333</td>\n",
       "      <td>0.500000</td>\n",
       "    </tr>\n",
       "  </tbody>\n",
       "</table>\n",
       "</div>"
      ],
      "text/plain": [
       "                         Date             Tweeter  \\\n",
       "0  2018-07-11 19:35:15.363270               b'tj'   \n",
       "1  2018-07-11 19:35:15.736769      b'Kool_Kheart'   \n",
       "2  2018-07-11 19:35:15.744769        b'Gary Lang'   \n",
       "3  2018-07-11 19:35:15.867339  b'Jobs in Fintech'   \n",
       "4  2018-07-11 19:35:16.021448            b'ERC20'   \n",
       "\n",
       "                                               Tweet  Polarity Rate  \\\n",
       "0  b\"Next two weeks prob v boring (climb up to 9k...       0.007273   \n",
       "1  b'@Miss_rinola But you\\xe2\\x80\\x99ve heard abo...       0.000000   \n",
       "2  b'Duplicate skilled traders automatically with...       0.625000   \n",
       "3  b'Project Manager - Technical - FinTech - Cent...       0.000000   \n",
       "4  b'Coinbase App Downloads Drop, Crypto Hype Fad...       0.333333   \n",
       "\n",
       "   Sensitivity Rate  \n",
       "0          0.590909  \n",
       "1          0.000000  \n",
       "2          0.500000  \n",
       "3          0.175000  \n",
       "4          0.500000  "
      ]
     },
     "execution_count": 5,
     "metadata": {},
     "output_type": "execute_result"
    }
   ],
   "source": [
    "#cleaning up \"tweet\" column to remove any special characters\n",
    "def clean_data(data):\n",
    "    # function to clean tweet text by removing links, special characters\n",
    "    return ' '.join(re.sub(\"(@[A-Za-z0-9]+)|([^0-9A-Za-z \\t]) |(\\w+:\\/\\/\\S+)\", \" \", data).split())\n",
    "\n",
    "data.head(5)"
   ]
  },
  {
   "cell_type": "code",
   "execution_count": 6,
   "metadata": {},
   "outputs": [
    {
     "data": {
      "text/html": [
       "<div>\n",
       "<style scoped>\n",
       "    .dataframe tbody tr th:only-of-type {\n",
       "        vertical-align: middle;\n",
       "    }\n",
       "\n",
       "    .dataframe tbody tr th {\n",
       "        vertical-align: top;\n",
       "    }\n",
       "\n",
       "    .dataframe thead th {\n",
       "        text-align: right;\n",
       "    }\n",
       "</style>\n",
       "<table border=\"1\" class=\"dataframe\">\n",
       "  <thead>\n",
       "    <tr style=\"text-align: right;\">\n",
       "      <th></th>\n",
       "      <th>Date</th>\n",
       "      <th>Tweeter</th>\n",
       "      <th>Tweet</th>\n",
       "      <th>Polarity Rate</th>\n",
       "      <th>Sensitivity Rate</th>\n",
       "    </tr>\n",
       "  </thead>\n",
       "  <tbody>\n",
       "    <tr>\n",
       "      <th>0</th>\n",
       "      <td>07/11/18 19:00:00</td>\n",
       "      <td>b'tj'</td>\n",
       "      <td>b\"Next two weeks prob v boring (climb up to 9k...</td>\n",
       "      <td>0.007273</td>\n",
       "      <td>0.590909</td>\n",
       "    </tr>\n",
       "    <tr>\n",
       "      <th>1</th>\n",
       "      <td>07/11/18 19:00:00</td>\n",
       "      <td>b'Kool_Kheart'</td>\n",
       "      <td>b'@Miss_rinola But you\\xe2\\x80\\x99ve heard abo...</td>\n",
       "      <td>0.000000</td>\n",
       "      <td>0.000000</td>\n",
       "    </tr>\n",
       "    <tr>\n",
       "      <th>2</th>\n",
       "      <td>07/11/18 19:00:00</td>\n",
       "      <td>b'Gary Lang'</td>\n",
       "      <td>b'Duplicate skilled traders automatically with...</td>\n",
       "      <td>0.625000</td>\n",
       "      <td>0.500000</td>\n",
       "    </tr>\n",
       "    <tr>\n",
       "      <th>3</th>\n",
       "      <td>07/11/18 19:00:00</td>\n",
       "      <td>b'Jobs in Fintech'</td>\n",
       "      <td>b'Project Manager - Technical - FinTech - Cent...</td>\n",
       "      <td>0.000000</td>\n",
       "      <td>0.175000</td>\n",
       "    </tr>\n",
       "    <tr>\n",
       "      <th>4</th>\n",
       "      <td>07/11/18 19:00:00</td>\n",
       "      <td>b'ERC20'</td>\n",
       "      <td>b'Coinbase App Downloads Drop, Crypto Hype Fad...</td>\n",
       "      <td>0.333333</td>\n",
       "      <td>0.500000</td>\n",
       "    </tr>\n",
       "    <tr>\n",
       "      <th>5</th>\n",
       "      <td>07/11/18 19:00:00</td>\n",
       "      <td>b'Lake_Ocean_Pond'</td>\n",
       "      <td>b'If you don\\xe2\\x80\\x99t understand Bitcoin, ...</td>\n",
       "      <td>0.000000</td>\n",
       "      <td>0.000000</td>\n",
       "    </tr>\n",
       "  </tbody>\n",
       "</table>\n",
       "</div>"
      ],
      "text/plain": [
       "                Date             Tweeter  \\\n",
       "0  07/11/18 19:00:00               b'tj'   \n",
       "1  07/11/18 19:00:00      b'Kool_Kheart'   \n",
       "2  07/11/18 19:00:00        b'Gary Lang'   \n",
       "3  07/11/18 19:00:00  b'Jobs in Fintech'   \n",
       "4  07/11/18 19:00:00            b'ERC20'   \n",
       "5  07/11/18 19:00:00  b'Lake_Ocean_Pond'   \n",
       "\n",
       "                                               Tweet  Polarity Rate  \\\n",
       "0  b\"Next two weeks prob v boring (climb up to 9k...       0.007273   \n",
       "1  b'@Miss_rinola But you\\xe2\\x80\\x99ve heard abo...       0.000000   \n",
       "2  b'Duplicate skilled traders automatically with...       0.625000   \n",
       "3  b'Project Manager - Technical - FinTech - Cent...       0.000000   \n",
       "4  b'Coinbase App Downloads Drop, Crypto Hype Fad...       0.333333   \n",
       "5  b'If you don\\xe2\\x80\\x99t understand Bitcoin, ...       0.000000   \n",
       "\n",
       "   Sensitivity Rate  \n",
       "0          0.590909  \n",
       "1          0.000000  \n",
       "2          0.500000  \n",
       "3          0.175000  \n",
       "4          0.500000  \n",
       "5          0.000000  "
      ]
     },
     "execution_count": 6,
     "metadata": {},
     "output_type": "execute_result"
    }
   ],
   "source": [
    "#Converting Date column to format MM/DD/YYYY for analysis purposes\n",
    "data['Date']= pd.to_datetime(data['Date'])\n",
    "data['Date']= data['Date'].dt.strftime(\"%m/%d/%y %H:00:00\")\n",
    "data.head(6)"
   ]
  },
  {
   "cell_type": "code",
   "execution_count": 7,
   "metadata": {},
   "outputs": [
    {
     "data": {
      "text/html": [
       "<div>\n",
       "<style scoped>\n",
       "    .dataframe tbody tr th:only-of-type {\n",
       "        vertical-align: middle;\n",
       "    }\n",
       "\n",
       "    .dataframe tbody tr th {\n",
       "        vertical-align: top;\n",
       "    }\n",
       "\n",
       "    .dataframe thead th {\n",
       "        text-align: right;\n",
       "    }\n",
       "</style>\n",
       "<table border=\"1\" class=\"dataframe\">\n",
       "  <thead>\n",
       "    <tr style=\"text-align: right;\">\n",
       "      <th></th>\n",
       "      <th>Timestamp</th>\n",
       "      <th>Open</th>\n",
       "      <th>High</th>\n",
       "      <th>Low</th>\n",
       "      <th>Close</th>\n",
       "      <th>Volume (BTC)</th>\n",
       "      <th>Volume (Currency)</th>\n",
       "      <th>Weighted Price</th>\n",
       "    </tr>\n",
       "  </thead>\n",
       "  <tbody>\n",
       "    <tr>\n",
       "      <th>0</th>\n",
       "      <td>07/10/18 01:00:00</td>\n",
       "      <td>6666.75</td>\n",
       "      <td>6683.90</td>\n",
       "      <td>6635.59</td>\n",
       "      <td>6669.73</td>\n",
       "      <td>281.73</td>\n",
       "      <td>1875693.72</td>\n",
       "      <td>6657.70</td>\n",
       "    </tr>\n",
       "    <tr>\n",
       "      <th>1</th>\n",
       "      <td>07/10/18 02:00:00</td>\n",
       "      <td>6662.44</td>\n",
       "      <td>6674.60</td>\n",
       "      <td>6647.00</td>\n",
       "      <td>6647.00</td>\n",
       "      <td>174.10</td>\n",
       "      <td>1160103.29</td>\n",
       "      <td>6663.38</td>\n",
       "    </tr>\n",
       "    <tr>\n",
       "      <th>2</th>\n",
       "      <td>07/10/18 03:00:00</td>\n",
       "      <td>6652.52</td>\n",
       "      <td>6662.82</td>\n",
       "      <td>6621.99</td>\n",
       "      <td>6632.53</td>\n",
       "      <td>231.41</td>\n",
       "      <td>1536936.22</td>\n",
       "      <td>6641.70</td>\n",
       "    </tr>\n",
       "    <tr>\n",
       "      <th>3</th>\n",
       "      <td>07/10/18 04:00:00</td>\n",
       "      <td>6631.17</td>\n",
       "      <td>6655.48</td>\n",
       "      <td>6625.54</td>\n",
       "      <td>6635.92</td>\n",
       "      <td>120.38</td>\n",
       "      <td>799154.77</td>\n",
       "      <td>6638.52</td>\n",
       "    </tr>\n",
       "    <tr>\n",
       "      <th>4</th>\n",
       "      <td>07/10/18 05:00:00</td>\n",
       "      <td>6632.81</td>\n",
       "      <td>6651.06</td>\n",
       "      <td>6627.64</td>\n",
       "      <td>6640.57</td>\n",
       "      <td>94.00</td>\n",
       "      <td>624289.31</td>\n",
       "      <td>6641.32</td>\n",
       "    </tr>\n",
       "    <tr>\n",
       "      <th>5</th>\n",
       "      <td>07/10/18 06:00:00</td>\n",
       "      <td>6640.12</td>\n",
       "      <td>6653.46</td>\n",
       "      <td>6620.00</td>\n",
       "      <td>6620.10</td>\n",
       "      <td>133.22</td>\n",
       "      <td>883912.06</td>\n",
       "      <td>6635.05</td>\n",
       "    </tr>\n",
       "  </tbody>\n",
       "</table>\n",
       "</div>"
      ],
      "text/plain": [
       "           Timestamp     Open     High      Low    Close  Volume (BTC)  \\\n",
       "0  07/10/18 01:00:00  6666.75  6683.90  6635.59  6669.73        281.73   \n",
       "1  07/10/18 02:00:00  6662.44  6674.60  6647.00  6647.00        174.10   \n",
       "2  07/10/18 03:00:00  6652.52  6662.82  6621.99  6632.53        231.41   \n",
       "3  07/10/18 04:00:00  6631.17  6655.48  6625.54  6635.92        120.38   \n",
       "4  07/10/18 05:00:00  6632.81  6651.06  6627.64  6640.57         94.00   \n",
       "5  07/10/18 06:00:00  6640.12  6653.46  6620.00  6620.10        133.22   \n",
       "\n",
       "   Volume (Currency)  Weighted Price  \n",
       "0         1875693.72         6657.70  \n",
       "1         1160103.29         6663.38  \n",
       "2         1536936.22         6641.70  \n",
       "3          799154.77         6638.52  \n",
       "4          624289.31         6641.32  \n",
       "5          883912.06         6635.05  "
      ]
     },
     "execution_count": 7,
     "metadata": {},
     "output_type": "execute_result"
    }
   ],
   "source": [
    "#Converting Date column to format MM/DD/YYYY for analysis purposes\n",
    "BTCdata['Timestamp']= pd.to_datetime(BTCdata['Timestamp'])\n",
    "BTCdata['Timestamp']= BTCdata['Timestamp'].dt.strftime(\"%m/%d/%y %H:00:00\")\n",
    "BTCdata.head(6)"
   ]
  },
  {
   "cell_type": "code",
   "execution_count": 8,
   "metadata": {},
   "outputs": [
    {
     "data": {
      "text/html": [
       "<div>\n",
       "<style scoped>\n",
       "    .dataframe tbody tr th:only-of-type {\n",
       "        vertical-align: middle;\n",
       "    }\n",
       "\n",
       "    .dataframe tbody tr th {\n",
       "        vertical-align: top;\n",
       "    }\n",
       "\n",
       "    .dataframe thead th {\n",
       "        text-align: right;\n",
       "    }\n",
       "</style>\n",
       "<table border=\"1\" class=\"dataframe\">\n",
       "  <thead>\n",
       "    <tr style=\"text-align: right;\">\n",
       "      <th></th>\n",
       "      <th>Timestamp</th>\n",
       "      <th>Open</th>\n",
       "      <th>Close</th>\n",
       "      <th>Weighted Price</th>\n",
       "    </tr>\n",
       "  </thead>\n",
       "  <tbody>\n",
       "    <tr>\n",
       "      <th>0</th>\n",
       "      <td>07/10/18 01:00:00</td>\n",
       "      <td>6666.75</td>\n",
       "      <td>6669.73</td>\n",
       "      <td>6657.70</td>\n",
       "    </tr>\n",
       "    <tr>\n",
       "      <th>1</th>\n",
       "      <td>07/10/18 02:00:00</td>\n",
       "      <td>6662.44</td>\n",
       "      <td>6647.00</td>\n",
       "      <td>6663.38</td>\n",
       "    </tr>\n",
       "    <tr>\n",
       "      <th>2</th>\n",
       "      <td>07/10/18 03:00:00</td>\n",
       "      <td>6652.52</td>\n",
       "      <td>6632.53</td>\n",
       "      <td>6641.70</td>\n",
       "    </tr>\n",
       "    <tr>\n",
       "      <th>3</th>\n",
       "      <td>07/10/18 04:00:00</td>\n",
       "      <td>6631.17</td>\n",
       "      <td>6635.92</td>\n",
       "      <td>6638.52</td>\n",
       "    </tr>\n",
       "    <tr>\n",
       "      <th>4</th>\n",
       "      <td>07/10/18 05:00:00</td>\n",
       "      <td>6632.81</td>\n",
       "      <td>6640.57</td>\n",
       "      <td>6641.32</td>\n",
       "    </tr>\n",
       "    <tr>\n",
       "      <th>5</th>\n",
       "      <td>07/10/18 06:00:00</td>\n",
       "      <td>6640.12</td>\n",
       "      <td>6620.10</td>\n",
       "      <td>6635.05</td>\n",
       "    </tr>\n",
       "  </tbody>\n",
       "</table>\n",
       "</div>"
      ],
      "text/plain": [
       "           Timestamp     Open    Close  Weighted Price\n",
       "0  07/10/18 01:00:00  6666.75  6669.73         6657.70\n",
       "1  07/10/18 02:00:00  6662.44  6647.00         6663.38\n",
       "2  07/10/18 03:00:00  6652.52  6632.53         6641.70\n",
       "3  07/10/18 04:00:00  6631.17  6635.92         6638.52\n",
       "4  07/10/18 05:00:00  6632.81  6640.57         6641.32\n",
       "5  07/10/18 06:00:00  6640.12  6620.10         6635.05"
      ]
     },
     "execution_count": 8,
     "metadata": {},
     "output_type": "execute_result"
    }
   ],
   "source": [
    "#removing columns of High, Low, Volume (BTC), Volume (Currency)\n",
    "BTCdata.drop(['High','Low','Volume (BTC)','Volume (Currency)'], axis = 1, inplace = True)\n",
    "BTCdata.head(6)"
   ]
  },
  {
   "cell_type": "code",
   "execution_count": 9,
   "metadata": {},
   "outputs": [
    {
     "data": {
      "text/html": [
       "<div>\n",
       "<style scoped>\n",
       "    .dataframe tbody tr th:only-of-type {\n",
       "        vertical-align: middle;\n",
       "    }\n",
       "\n",
       "    .dataframe tbody tr th {\n",
       "        vertical-align: top;\n",
       "    }\n",
       "\n",
       "    .dataframe thead th {\n",
       "        text-align: right;\n",
       "    }\n",
       "</style>\n",
       "<table border=\"1\" class=\"dataframe\">\n",
       "  <thead>\n",
       "    <tr style=\"text-align: right;\">\n",
       "      <th></th>\n",
       "      <th>Date</th>\n",
       "      <th>Open</th>\n",
       "      <th>Close</th>\n",
       "      <th>Weighted Price</th>\n",
       "    </tr>\n",
       "  </thead>\n",
       "  <tbody>\n",
       "    <tr>\n",
       "      <th>0</th>\n",
       "      <td>07/10/18 01:00:00</td>\n",
       "      <td>6666.75</td>\n",
       "      <td>6669.73</td>\n",
       "      <td>6657.70</td>\n",
       "    </tr>\n",
       "    <tr>\n",
       "      <th>1</th>\n",
       "      <td>07/10/18 02:00:00</td>\n",
       "      <td>6662.44</td>\n",
       "      <td>6647.00</td>\n",
       "      <td>6663.38</td>\n",
       "    </tr>\n",
       "    <tr>\n",
       "      <th>2</th>\n",
       "      <td>07/10/18 03:00:00</td>\n",
       "      <td>6652.52</td>\n",
       "      <td>6632.53</td>\n",
       "      <td>6641.70</td>\n",
       "    </tr>\n",
       "    <tr>\n",
       "      <th>3</th>\n",
       "      <td>07/10/18 04:00:00</td>\n",
       "      <td>6631.17</td>\n",
       "      <td>6635.92</td>\n",
       "      <td>6638.52</td>\n",
       "    </tr>\n",
       "    <tr>\n",
       "      <th>4</th>\n",
       "      <td>07/10/18 05:00:00</td>\n",
       "      <td>6632.81</td>\n",
       "      <td>6640.57</td>\n",
       "      <td>6641.32</td>\n",
       "    </tr>\n",
       "    <tr>\n",
       "      <th>5</th>\n",
       "      <td>07/10/18 06:00:00</td>\n",
       "      <td>6640.12</td>\n",
       "      <td>6620.10</td>\n",
       "      <td>6635.05</td>\n",
       "    </tr>\n",
       "  </tbody>\n",
       "</table>\n",
       "</div>"
      ],
      "text/plain": [
       "                Date     Open    Close  Weighted Price\n",
       "0  07/10/18 01:00:00  6666.75  6669.73         6657.70\n",
       "1  07/10/18 02:00:00  6662.44  6647.00         6663.38\n",
       "2  07/10/18 03:00:00  6652.52  6632.53         6641.70\n",
       "3  07/10/18 04:00:00  6631.17  6635.92         6638.52\n",
       "4  07/10/18 05:00:00  6632.81  6640.57         6641.32\n",
       "5  07/10/18 06:00:00  6640.12  6620.10         6635.05"
      ]
     },
     "execution_count": 9,
     "metadata": {},
     "output_type": "execute_result"
    }
   ],
   "source": [
    "#Renaming Timestamp name to 'Date'\n",
    "BTCdata.columns = ['Date','Open','Close','Weighted Price']\n",
    "BTCdata.head(6)"
   ]
  },
  {
   "cell_type": "code",
   "execution_count": 10,
   "metadata": {},
   "outputs": [
    {
     "data": {
      "text/html": [
       "<div>\n",
       "<style scoped>\n",
       "    .dataframe tbody tr th:only-of-type {\n",
       "        vertical-align: middle;\n",
       "    }\n",
       "\n",
       "    .dataframe tbody tr th {\n",
       "        vertical-align: top;\n",
       "    }\n",
       "\n",
       "    .dataframe thead th {\n",
       "        text-align: right;\n",
       "    }\n",
       "</style>\n",
       "<table border=\"1\" class=\"dataframe\">\n",
       "  <thead>\n",
       "    <tr style=\"text-align: right;\">\n",
       "      <th></th>\n",
       "      <th>Date</th>\n",
       "      <th>Open</th>\n",
       "      <th>Close</th>\n",
       "      <th>Weighted Price</th>\n",
       "    </tr>\n",
       "  </thead>\n",
       "  <tbody>\n",
       "    <tr>\n",
       "      <th>23</th>\n",
       "      <td>07/11/18 00:00:00</td>\n",
       "      <td>6371.57</td>\n",
       "      <td>6299.46</td>\n",
       "      <td>6309.50</td>\n",
       "    </tr>\n",
       "    <tr>\n",
       "      <th>24</th>\n",
       "      <td>07/11/18 01:00:00</td>\n",
       "      <td>6304.45</td>\n",
       "      <td>6387.73</td>\n",
       "      <td>6353.06</td>\n",
       "    </tr>\n",
       "    <tr>\n",
       "      <th>25</th>\n",
       "      <td>07/11/18 02:00:00</td>\n",
       "      <td>6387.39</td>\n",
       "      <td>6367.45</td>\n",
       "      <td>6377.03</td>\n",
       "    </tr>\n",
       "    <tr>\n",
       "      <th>26</th>\n",
       "      <td>07/11/18 03:00:00</td>\n",
       "      <td>6367.85</td>\n",
       "      <td>6363.77</td>\n",
       "      <td>6362.12</td>\n",
       "    </tr>\n",
       "    <tr>\n",
       "      <th>27</th>\n",
       "      <td>07/11/18 04:00:00</td>\n",
       "      <td>6361.98</td>\n",
       "      <td>6333.75</td>\n",
       "      <td>6356.38</td>\n",
       "    </tr>\n",
       "    <tr>\n",
       "      <th>28</th>\n",
       "      <td>07/11/18 05:00:00</td>\n",
       "      <td>6335.95</td>\n",
       "      <td>6347.12</td>\n",
       "      <td>6343.43</td>\n",
       "    </tr>\n",
       "    <tr>\n",
       "      <th>29</th>\n",
       "      <td>07/11/18 06:00:00</td>\n",
       "      <td>6347.18</td>\n",
       "      <td>6337.94</td>\n",
       "      <td>6325.29</td>\n",
       "    </tr>\n",
       "    <tr>\n",
       "      <th>30</th>\n",
       "      <td>07/11/18 07:00:00</td>\n",
       "      <td>6339.77</td>\n",
       "      <td>6310.75</td>\n",
       "      <td>6307.04</td>\n",
       "    </tr>\n",
       "    <tr>\n",
       "      <th>31</th>\n",
       "      <td>07/11/18 08:00:00</td>\n",
       "      <td>6307.01</td>\n",
       "      <td>6348.35</td>\n",
       "      <td>6333.38</td>\n",
       "    </tr>\n",
       "    <tr>\n",
       "      <th>32</th>\n",
       "      <td>07/11/18 09:00:00</td>\n",
       "      <td>6348.43</td>\n",
       "      <td>6367.25</td>\n",
       "      <td>6359.53</td>\n",
       "    </tr>\n",
       "  </tbody>\n",
       "</table>\n",
       "</div>"
      ],
      "text/plain": [
       "                 Date     Open    Close  Weighted Price\n",
       "23  07/11/18 00:00:00  6371.57  6299.46         6309.50\n",
       "24  07/11/18 01:00:00  6304.45  6387.73         6353.06\n",
       "25  07/11/18 02:00:00  6387.39  6367.45         6377.03\n",
       "26  07/11/18 03:00:00  6367.85  6363.77         6362.12\n",
       "27  07/11/18 04:00:00  6361.98  6333.75         6356.38\n",
       "28  07/11/18 05:00:00  6335.95  6347.12         6343.43\n",
       "29  07/11/18 06:00:00  6347.18  6337.94         6325.29\n",
       "30  07/11/18 07:00:00  6339.77  6310.75         6307.04\n",
       "31  07/11/18 08:00:00  6307.01  6348.35         6333.38\n",
       "32  07/11/18 09:00:00  6348.43  6367.25         6359.53"
      ]
     },
     "execution_count": 10,
     "metadata": {},
     "output_type": "execute_result"
    }
   ],
   "source": [
    "#removing all values for Date = 07/10/18\n",
    "BTCdata = BTCdata.drop([0,1,2,3,4,5,6,7,8,9,10],axis=0)\n",
    "BTCdata = BTCdata.drop([11,12,13,14,15,16,17,18,19,20,21,22],axis=0)\n",
    "BTCdata.head(10)"
   ]
  },
  {
   "cell_type": "code",
   "execution_count": 11,
   "metadata": {},
   "outputs": [
    {
     "data": {
      "text/html": [
       "<div>\n",
       "<style scoped>\n",
       "    .dataframe tbody tr th:only-of-type {\n",
       "        vertical-align: middle;\n",
       "    }\n",
       "\n",
       "    .dataframe tbody tr th {\n",
       "        vertical-align: top;\n",
       "    }\n",
       "\n",
       "    .dataframe thead th {\n",
       "        text-align: right;\n",
       "    }\n",
       "</style>\n",
       "<table border=\"1\" class=\"dataframe\">\n",
       "  <thead>\n",
       "    <tr style=\"text-align: right;\">\n",
       "      <th></th>\n",
       "      <th>Date</th>\n",
       "      <th>Tweet</th>\n",
       "      <th>Polarity Rate</th>\n",
       "      <th>Sensitivity Rate</th>\n",
       "    </tr>\n",
       "  </thead>\n",
       "  <tbody>\n",
       "    <tr>\n",
       "      <th>0</th>\n",
       "      <td>07/11/18 19:00:00</td>\n",
       "      <td>b\"Next two weeks prob v boring (climb up to 9k...</td>\n",
       "      <td>0.007273</td>\n",
       "      <td>0.590909</td>\n",
       "    </tr>\n",
       "    <tr>\n",
       "      <th>1</th>\n",
       "      <td>07/11/18 19:00:00</td>\n",
       "      <td>b'@Miss_rinola But you\\xe2\\x80\\x99ve heard abo...</td>\n",
       "      <td>0.000000</td>\n",
       "      <td>0.000000</td>\n",
       "    </tr>\n",
       "    <tr>\n",
       "      <th>2</th>\n",
       "      <td>07/11/18 19:00:00</td>\n",
       "      <td>b'Duplicate skilled traders automatically with...</td>\n",
       "      <td>0.625000</td>\n",
       "      <td>0.500000</td>\n",
       "    </tr>\n",
       "    <tr>\n",
       "      <th>3</th>\n",
       "      <td>07/11/18 19:00:00</td>\n",
       "      <td>b'Project Manager - Technical - FinTech - Cent...</td>\n",
       "      <td>0.000000</td>\n",
       "      <td>0.175000</td>\n",
       "    </tr>\n",
       "    <tr>\n",
       "      <th>4</th>\n",
       "      <td>07/11/18 19:00:00</td>\n",
       "      <td>b'Coinbase App Downloads Drop, Crypto Hype Fad...</td>\n",
       "      <td>0.333333</td>\n",
       "      <td>0.500000</td>\n",
       "    </tr>\n",
       "    <tr>\n",
       "      <th>5</th>\n",
       "      <td>07/11/18 19:00:00</td>\n",
       "      <td>b'If you don\\xe2\\x80\\x99t understand Bitcoin, ...</td>\n",
       "      <td>0.000000</td>\n",
       "      <td>0.000000</td>\n",
       "    </tr>\n",
       "  </tbody>\n",
       "</table>\n",
       "</div>"
      ],
      "text/plain": [
       "                Date                                              Tweet  \\\n",
       "0  07/11/18 19:00:00  b\"Next two weeks prob v boring (climb up to 9k...   \n",
       "1  07/11/18 19:00:00  b'@Miss_rinola But you\\xe2\\x80\\x99ve heard abo...   \n",
       "2  07/11/18 19:00:00  b'Duplicate skilled traders automatically with...   \n",
       "3  07/11/18 19:00:00  b'Project Manager - Technical - FinTech - Cent...   \n",
       "4  07/11/18 19:00:00  b'Coinbase App Downloads Drop, Crypto Hype Fad...   \n",
       "5  07/11/18 19:00:00  b'If you don\\xe2\\x80\\x99t understand Bitcoin, ...   \n",
       "\n",
       "   Polarity Rate  Sensitivity Rate  \n",
       "0       0.007273          0.590909  \n",
       "1       0.000000          0.000000  \n",
       "2       0.625000          0.500000  \n",
       "3       0.000000          0.175000  \n",
       "4       0.333333          0.500000  \n",
       "5       0.000000          0.000000  "
      ]
     },
     "execution_count": 11,
     "metadata": {},
     "output_type": "execute_result"
    }
   ],
   "source": [
    "#removing Tweet and Tweeter as they do not have any influence to the data\n",
    "data.drop(['Tweeter'], axis = 1, inplace = True)\n",
    "data.head(6)"
   ]
  },
  {
   "cell_type": "code",
   "execution_count": 12,
   "metadata": {},
   "outputs": [
    {
     "name": "stdout",
     "output_type": "stream",
     "text": [
      "Dataset has 4 features and 1413001 observations\n",
      "Dataset has 4 features and 314 observations\n"
     ]
    }
   ],
   "source": [
    "print('Dataset has {0} features and {1} observations'.format(data.shape[1], data.shape[0]))\n",
    "print('Dataset has {0} features and {1} observations'.format(BTCdata.shape[1], BTCdata.shape[0]))"
   ]
  },
  {
   "cell_type": "code",
   "execution_count": 13,
   "metadata": {},
   "outputs": [
    {
     "data": {
      "text/plain": [
       "{'whiskers': [<matplotlib.lines.Line2D at 0x7f3a586d0b50>,\n",
       "  <matplotlib.lines.Line2D at 0x7f3a586d0f10>],\n",
       " 'caps': [<matplotlib.lines.Line2D at 0x7f3a586dd390>,\n",
       "  <matplotlib.lines.Line2D at 0x7f3a586dd7d0>],\n",
       " 'boxes': [<matplotlib.lines.Line2D at 0x7f3a586d0710>],\n",
       " 'medians': [<matplotlib.lines.Line2D at 0x7f3a586ddc50>],\n",
       " 'fliers': [<matplotlib.lines.Line2D at 0x7f3a586e70d0>],\n",
       " 'means': []}"
      ]
     },
     "execution_count": 13,
     "metadata": {},
     "output_type": "execute_result"
    },
    {
     "data": {
      "image/png": "[encoded data removed]",
      "text/plain": [
       "<Figure size 432x288 with 1 Axes>"
      ]
     },
     "metadata": {
      "needs_background": "light"
     },
     "output_type": "display_data"
    }
   ],
   "source": [
    "#Boxplot for individual columns to understand range of each variable\n",
    "matplotlib.pyplot.boxplot(data['Polarity Rate'], notch=None, vert=None, patch_artist=None, widths=None)"
   ]
  },
  {
   "cell_type": "code",
   "execution_count": 14,
   "metadata": {},
   "outputs": [
    {
     "data": {
      "text/plain": [
       "{'whiskers': [<matplotlib.lines.Line2D at 0x7f3a585e4210>,\n",
       "  <matplotlib.lines.Line2D at 0x7f3a585e4650>],\n",
       " 'caps': [<matplotlib.lines.Line2D at 0x7f3a585e4a90>,\n",
       "  <matplotlib.lines.Line2D at 0x7f3a585e4ed0>],\n",
       " 'boxes': [<matplotlib.lines.Line2D at 0x7f3a585d8ed0>],\n",
       " 'medians': [<matplotlib.lines.Line2D at 0x7f3a585ee390>],\n",
       " 'fliers': [<matplotlib.lines.Line2D at 0x7f3a585ee7d0>],\n",
       " 'means': []}"
      ]
     },
     "execution_count": 14,
     "metadata": {},
     "output_type": "execute_result"
    },
    {
     "data": {
      "image/png": "[encoded data removed]",
      "text/plain": [
       "<Figure size 432x288 with 1 Axes>"
      ]
     },
     "metadata": {
      "needs_background": "light"
     },
     "output_type": "display_data"
    }
   ],
   "source": [
    "matplotlib.pyplot.boxplot(data['Sensitivity Rate'], notch=None, vert=None, patch_artist=None, widths=None)"
   ]
  },
  {
   "cell_type": "code",
   "execution_count": 15,
   "metadata": {},
   "outputs": [
    {
     "data": {
      "text/plain": [
       "{'whiskers': [<matplotlib.lines.Line2D at 0x7f3a58568310>,\n",
       "  <matplotlib.lines.Line2D at 0x7f3a58568750>],\n",
       " 'caps': [<matplotlib.lines.Line2D at 0x7f3a58568b90>,\n",
       "  <matplotlib.lines.Line2D at 0x7f3a58568fd0>],\n",
       " 'boxes': [<matplotlib.lines.Line2D at 0x7f3a58560fd0>],\n",
       " 'medians': [<matplotlib.lines.Line2D at 0x7f3a58574490>],\n",
       " 'fliers': [<matplotlib.lines.Line2D at 0x7f3a585748d0>],\n",
       " 'means': []}"
      ]
     },
     "execution_count": 15,
     "metadata": {},
     "output_type": "execute_result"
    },
    {
     "data": {
      "image/png": "[encoded data removed]",
      "text/plain": [
       "<Figure size 432x288 with 1 Axes>"
      ]
     },
     "metadata": {
      "needs_background": "light"
     },
     "output_type": "display_data"
    }
   ],
   "source": [
    "matplotlib.pyplot.boxplot(BTCdata['Open'], notch=None, vert=None, patch_artist=None, widths=None)"
   ]
  },
  {
   "cell_type": "code",
   "execution_count": 16,
   "metadata": {},
   "outputs": [
    {
     "data": {
      "text/plain": [
       "{'whiskers': [<matplotlib.lines.Line2D at 0x7f3a5847c610>,\n",
       "  <matplotlib.lines.Line2D at 0x7f3a5847ca50>],\n",
       " 'caps': [<matplotlib.lines.Line2D at 0x7f3a5847ce90>,\n",
       "  <matplotlib.lines.Line2D at 0x7f3a58486310>],\n",
       " 'boxes': [<matplotlib.lines.Line2D at 0x7f3a5847c2d0>],\n",
       " 'medians': [<matplotlib.lines.Line2D at 0x7f3a58486790>],\n",
       " 'fliers': [<matplotlib.lines.Line2D at 0x7f3a58486bd0>],\n",
       " 'means': []}"
      ]
     },
     "execution_count": 16,
     "metadata": {},
     "output_type": "execute_result"
    },
    {
     "data": {
      "image/png": "[encoded data removed]",
      "text/plain": [
       "<Figure size 432x288 with 1 Axes>"
      ]
     },
     "metadata": {
      "needs_background": "light"
     },
     "output_type": "display_data"
    }
   ],
   "source": [
    "matplotlib.pyplot.boxplot(BTCdata['Close'], notch=None, vert=None, patch_artist=None, widths=None)"
   ]
  },
  {
   "cell_type": "code",
   "execution_count": 17,
   "metadata": {},
   "outputs": [
    {
     "data": {
      "text/plain": [
       "{'whiskers': [<matplotlib.lines.Line2D at 0x7f3a58407a50>,\n",
       "  <matplotlib.lines.Line2D at 0x7f3a58407d50>],\n",
       " 'caps': [<matplotlib.lines.Line2D at 0x7f3a58411210>,\n",
       "  <matplotlib.lines.Line2D at 0x7f3a58411650>],\n",
       " 'boxes': [<matplotlib.lines.Line2D at 0x7f3a584076d0>],\n",
       " 'medians': [<matplotlib.lines.Line2D at 0x7f3a58411ad0>],\n",
       " 'fliers': [<matplotlib.lines.Line2D at 0x7f3a58411f10>],\n",
       " 'means': []}"
      ]
     },
     "execution_count": 17,
     "metadata": {},
     "output_type": "execute_result"
    },
    {
     "data": {
      "image/png": "[encoded data removed]",
      "text/plain": [
       "<Figure size 432x288 with 1 Axes>"
      ]
     },
     "metadata": {
      "needs_background": "light"
     },
     "output_type": "display_data"
    }
   ],
   "source": [
    "matplotlib.pyplot.boxplot(BTCdata['Weighted Price'], notch=None, vert=None, patch_artist=None, widths=None)"
   ]
  },
  {
   "cell_type": "code",
   "execution_count": 18,
   "metadata": {},
   "outputs": [],
   "source": [
    "#DATA CLEANING END"
   ]
  },
  {
   "cell_type": "code",
   "execution_count": 19,
   "metadata": {},
   "outputs": [],
   "source": [
    "#EXPLORATORY DATA ANALYSIS (EDA)"
   ]
  },
  {
   "cell_type": "code",
   "execution_count": 20,
   "metadata": {},
   "outputs": [
    {
     "data": {
      "text/html": [
       "<div>\n",
       "<style scoped>\n",
       "    .dataframe tbody tr th:only-of-type {\n",
       "        vertical-align: middle;\n",
       "    }\n",
       "\n",
       "    .dataframe tbody tr th {\n",
       "        vertical-align: top;\n",
       "    }\n",
       "\n",
       "    .dataframe thead th {\n",
       "        text-align: right;\n",
       "    }\n",
       "</style>\n",
       "<table border=\"1\" class=\"dataframe\">\n",
       "  <thead>\n",
       "    <tr style=\"text-align: right;\">\n",
       "      <th></th>\n",
       "      <th>Date</th>\n",
       "      <th>Tweet</th>\n",
       "      <th>Polarity Rate</th>\n",
       "      <th>Sensitivity Rate</th>\n",
       "      <th>Open</th>\n",
       "      <th>Close</th>\n",
       "      <th>Weighted Price</th>\n",
       "    </tr>\n",
       "  </thead>\n",
       "  <tbody>\n",
       "    <tr>\n",
       "      <th>0</th>\n",
       "      <td>07/11/18 19:00:00</td>\n",
       "      <td>b\"Next two weeks prob v boring (climb up to 9k...</td>\n",
       "      <td>0.007273</td>\n",
       "      <td>0.590909</td>\n",
       "      <td>6353.73</td>\n",
       "      <td>6342.96</td>\n",
       "      <td>6348.41</td>\n",
       "    </tr>\n",
       "    <tr>\n",
       "      <th>1</th>\n",
       "      <td>07/11/18 19:00:00</td>\n",
       "      <td>b'@Miss_rinola But you\\xe2\\x80\\x99ve heard abo...</td>\n",
       "      <td>0.000000</td>\n",
       "      <td>0.000000</td>\n",
       "      <td>6353.73</td>\n",
       "      <td>6342.96</td>\n",
       "      <td>6348.41</td>\n",
       "    </tr>\n",
       "    <tr>\n",
       "      <th>2</th>\n",
       "      <td>07/11/18 19:00:00</td>\n",
       "      <td>b'Duplicate skilled traders automatically with...</td>\n",
       "      <td>0.625000</td>\n",
       "      <td>0.500000</td>\n",
       "      <td>6353.73</td>\n",
       "      <td>6342.96</td>\n",
       "      <td>6348.41</td>\n",
       "    </tr>\n",
       "    <tr>\n",
       "      <th>3</th>\n",
       "      <td>07/11/18 19:00:00</td>\n",
       "      <td>b'Project Manager - Technical - FinTech - Cent...</td>\n",
       "      <td>0.000000</td>\n",
       "      <td>0.175000</td>\n",
       "      <td>6353.73</td>\n",
       "      <td>6342.96</td>\n",
       "      <td>6348.41</td>\n",
       "    </tr>\n",
       "    <tr>\n",
       "      <th>4</th>\n",
       "      <td>07/11/18 19:00:00</td>\n",
       "      <td>b'Coinbase App Downloads Drop, Crypto Hype Fad...</td>\n",
       "      <td>0.333333</td>\n",
       "      <td>0.500000</td>\n",
       "      <td>6353.73</td>\n",
       "      <td>6342.96</td>\n",
       "      <td>6348.41</td>\n",
       "    </tr>\n",
       "  </tbody>\n",
       "</table>\n",
       "</div>"
      ],
      "text/plain": [
       "                Date                                              Tweet  \\\n",
       "0  07/11/18 19:00:00  b\"Next two weeks prob v boring (climb up to 9k...   \n",
       "1  07/11/18 19:00:00  b'@Miss_rinola But you\\xe2\\x80\\x99ve heard abo...   \n",
       "2  07/11/18 19:00:00  b'Duplicate skilled traders automatically with...   \n",
       "3  07/11/18 19:00:00  b'Project Manager - Technical - FinTech - Cent...   \n",
       "4  07/11/18 19:00:00  b'Coinbase App Downloads Drop, Crypto Hype Fad...   \n",
       "\n",
       "   Polarity Rate  Sensitivity Rate     Open    Close  Weighted Price  \n",
       "0       0.007273          0.590909  6353.73  6342.96         6348.41  \n",
       "1       0.000000          0.000000  6353.73  6342.96         6348.41  \n",
       "2       0.625000          0.500000  6353.73  6342.96         6348.41  \n",
       "3       0.000000          0.175000  6353.73  6342.96         6348.41  \n",
       "4       0.333333          0.500000  6353.73  6342.96         6348.41  "
      ]
     },
     "execution_count": 20,
     "metadata": {},
     "output_type": "execute_result"
    }
   ],
   "source": [
    "#merging two datasets together\n",
    "df = pd.merge(data,BTCdata,how='left',left_on='Date',right_on='Date')\n",
    "df.head()"
   ]
  },
  {
   "cell_type": "code",
   "execution_count": 21,
   "metadata": {},
   "outputs": [
    {
     "data": {
      "text/html": [
       "<div>\n",
       "<style scoped>\n",
       "    .dataframe tbody tr th:only-of-type {\n",
       "        vertical-align: middle;\n",
       "    }\n",
       "\n",
       "    .dataframe tbody tr th {\n",
       "        vertical-align: top;\n",
       "    }\n",
       "\n",
       "    .dataframe thead th {\n",
       "        text-align: right;\n",
       "    }\n",
       "</style>\n",
       "<table border=\"1\" class=\"dataframe\">\n",
       "  <thead>\n",
       "    <tr style=\"text-align: right;\">\n",
       "      <th></th>\n",
       "      <th>Polarity Rate</th>\n",
       "      <th>Sensitivity Rate</th>\n",
       "      <th>Open</th>\n",
       "      <th>Close</th>\n",
       "      <th>Weighted Price</th>\n",
       "    </tr>\n",
       "    <tr>\n",
       "      <th>Date</th>\n",
       "      <th></th>\n",
       "      <th></th>\n",
       "      <th></th>\n",
       "      <th></th>\n",
       "      <th></th>\n",
       "    </tr>\n",
       "  </thead>\n",
       "  <tbody>\n",
       "    <tr>\n",
       "      <th>07/11/18 19:00:00</th>\n",
       "      <td>0.109705</td>\n",
       "      <td>0.187557</td>\n",
       "      <td>6353.73</td>\n",
       "      <td>6342.96</td>\n",
       "      <td>6348.41</td>\n",
       "    </tr>\n",
       "    <tr>\n",
       "      <th>07/11/18 20:00:00</th>\n",
       "      <td>0.102657</td>\n",
       "      <td>0.216148</td>\n",
       "      <td>6342.97</td>\n",
       "      <td>6350.00</td>\n",
       "      <td>6315.33</td>\n",
       "    </tr>\n",
       "    <tr>\n",
       "      <th>07/11/18 21:00:00</th>\n",
       "      <td>0.098004</td>\n",
       "      <td>0.218612</td>\n",
       "      <td>6352.99</td>\n",
       "      <td>6356.48</td>\n",
       "      <td>6359.53</td>\n",
       "    </tr>\n",
       "    <tr>\n",
       "      <th>07/11/18 22:00:00</th>\n",
       "      <td>0.096688</td>\n",
       "      <td>0.231342</td>\n",
       "      <td>6350.85</td>\n",
       "      <td>6361.93</td>\n",
       "      <td>6354.12</td>\n",
       "    </tr>\n",
       "    <tr>\n",
       "      <th>07/11/18 23:00:00</th>\n",
       "      <td>0.103997</td>\n",
       "      <td>0.217739</td>\n",
       "      <td>6362.36</td>\n",
       "      <td>6368.78</td>\n",
       "      <td>6368.23</td>\n",
       "    </tr>\n",
       "    <tr>\n",
       "      <th>...</th>\n",
       "      <td>...</td>\n",
       "      <td>...</td>\n",
       "      <td>...</td>\n",
       "      <td>...</td>\n",
       "      <td>...</td>\n",
       "    </tr>\n",
       "    <tr>\n",
       "      <th>07/24/18 04:00:00</th>\n",
       "      <td>0.121358</td>\n",
       "      <td>0.236000</td>\n",
       "      <td>NaN</td>\n",
       "      <td>NaN</td>\n",
       "      <td>NaN</td>\n",
       "    </tr>\n",
       "    <tr>\n",
       "      <th>07/24/18 05:00:00</th>\n",
       "      <td>0.095163</td>\n",
       "      <td>0.216924</td>\n",
       "      <td>NaN</td>\n",
       "      <td>NaN</td>\n",
       "      <td>NaN</td>\n",
       "    </tr>\n",
       "    <tr>\n",
       "      <th>07/24/18 06:00:00</th>\n",
       "      <td>0.088992</td>\n",
       "      <td>0.220173</td>\n",
       "      <td>NaN</td>\n",
       "      <td>NaN</td>\n",
       "      <td>NaN</td>\n",
       "    </tr>\n",
       "    <tr>\n",
       "      <th>07/24/18 07:00:00</th>\n",
       "      <td>0.091439</td>\n",
       "      <td>0.198279</td>\n",
       "      <td>NaN</td>\n",
       "      <td>NaN</td>\n",
       "      <td>NaN</td>\n",
       "    </tr>\n",
       "    <tr>\n",
       "      <th>07/24/18 08:00:00</th>\n",
       "      <td>0.071268</td>\n",
       "      <td>0.218217</td>\n",
       "      <td>NaN</td>\n",
       "      <td>NaN</td>\n",
       "      <td>NaN</td>\n",
       "    </tr>\n",
       "  </tbody>\n",
       "</table>\n",
       "<p>302 rows × 5 columns</p>\n",
       "</div>"
      ],
      "text/plain": [
       "                   Polarity Rate  Sensitivity Rate     Open    Close  \\\n",
       "Date                                                                   \n",
       "07/11/18 19:00:00       0.109705          0.187557  6353.73  6342.96   \n",
       "07/11/18 20:00:00       0.102657          0.216148  6342.97  6350.00   \n",
       "07/11/18 21:00:00       0.098004          0.218612  6352.99  6356.48   \n",
       "07/11/18 22:00:00       0.096688          0.231342  6350.85  6361.93   \n",
       "07/11/18 23:00:00       0.103997          0.217739  6362.36  6368.78   \n",
       "...                          ...               ...      ...      ...   \n",
       "07/24/18 04:00:00       0.121358          0.236000      NaN      NaN   \n",
       "07/24/18 05:00:00       0.095163          0.216924      NaN      NaN   \n",
       "07/24/18 06:00:00       0.088992          0.220173      NaN      NaN   \n",
       "07/24/18 07:00:00       0.091439          0.198279      NaN      NaN   \n",
       "07/24/18 08:00:00       0.071268          0.218217      NaN      NaN   \n",
       "\n",
       "                   Weighted Price  \n",
       "Date                               \n",
       "07/11/18 19:00:00         6348.41  \n",
       "07/11/18 20:00:00         6315.33  \n",
       "07/11/18 21:00:00         6359.53  \n",
       "07/11/18 22:00:00         6354.12  \n",
       "07/11/18 23:00:00         6368.23  \n",
       "...                           ...  \n",
       "07/24/18 04:00:00             NaN  \n",
       "07/24/18 05:00:00             NaN  \n",
       "07/24/18 06:00:00             NaN  \n",
       "07/24/18 07:00:00             NaN  \n",
       "07/24/18 08:00:00             NaN  \n",
       "\n",
       "[302 rows x 5 columns]"
      ]
     },
     "execution_count": 21,
     "metadata": {},
     "output_type": "execute_result"
    }
   ],
   "source": [
    "df = df.groupby('Date').mean()\n",
    "df"
   ]
  },
  {
   "cell_type": "code",
   "execution_count": 22,
   "metadata": {},
   "outputs": [
    {
     "data": {
      "text/html": [
       "<div>\n",
       "<style scoped>\n",
       "    .dataframe tbody tr th:only-of-type {\n",
       "        vertical-align: middle;\n",
       "    }\n",
       "\n",
       "    .dataframe tbody tr th {\n",
       "        vertical-align: top;\n",
       "    }\n",
       "\n",
       "    .dataframe thead th {\n",
       "        text-align: right;\n",
       "    }\n",
       "</style>\n",
       "<table border=\"1\" class=\"dataframe\">\n",
       "  <thead>\n",
       "    <tr style=\"text-align: right;\">\n",
       "      <th></th>\n",
       "      <th>Polarity Rate</th>\n",
       "      <th>Sensitivity Rate</th>\n",
       "      <th>Open</th>\n",
       "      <th>Close</th>\n",
       "      <th>Weighted Price</th>\n",
       "    </tr>\n",
       "    <tr>\n",
       "      <th>Date</th>\n",
       "      <th></th>\n",
       "      <th></th>\n",
       "      <th></th>\n",
       "      <th></th>\n",
       "      <th></th>\n",
       "    </tr>\n",
       "  </thead>\n",
       "  <tbody>\n",
       "    <tr>\n",
       "      <th>07/11/18 19:00:00</th>\n",
       "      <td>0.109705</td>\n",
       "      <td>0.187557</td>\n",
       "      <td>6353.73</td>\n",
       "      <td>6342.96</td>\n",
       "      <td>6348.41</td>\n",
       "    </tr>\n",
       "    <tr>\n",
       "      <th>07/11/18 20:00:00</th>\n",
       "      <td>0.102657</td>\n",
       "      <td>0.216148</td>\n",
       "      <td>6342.97</td>\n",
       "      <td>6350.00</td>\n",
       "      <td>6315.33</td>\n",
       "    </tr>\n",
       "    <tr>\n",
       "      <th>07/11/18 21:00:00</th>\n",
       "      <td>0.098004</td>\n",
       "      <td>0.218612</td>\n",
       "      <td>6352.99</td>\n",
       "      <td>6356.48</td>\n",
       "      <td>6359.53</td>\n",
       "    </tr>\n",
       "    <tr>\n",
       "      <th>07/11/18 22:00:00</th>\n",
       "      <td>0.096688</td>\n",
       "      <td>0.231342</td>\n",
       "      <td>6350.85</td>\n",
       "      <td>6361.93</td>\n",
       "      <td>6354.12</td>\n",
       "    </tr>\n",
       "    <tr>\n",
       "      <th>07/11/18 23:00:00</th>\n",
       "      <td>0.103997</td>\n",
       "      <td>0.217739</td>\n",
       "      <td>6362.36</td>\n",
       "      <td>6368.78</td>\n",
       "      <td>6368.23</td>\n",
       "    </tr>\n",
       "    <tr>\n",
       "      <th>...</th>\n",
       "      <td>...</td>\n",
       "      <td>...</td>\n",
       "      <td>...</td>\n",
       "      <td>...</td>\n",
       "      <td>...</td>\n",
       "    </tr>\n",
       "    <tr>\n",
       "      <th>07/23/18 21:00:00</th>\n",
       "      <td>0.107282</td>\n",
       "      <td>0.235636</td>\n",
       "      <td>7746.99</td>\n",
       "      <td>7706.00</td>\n",
       "      <td>7729.06</td>\n",
       "    </tr>\n",
       "    <tr>\n",
       "      <th>07/23/18 22:00:00</th>\n",
       "      <td>0.094493</td>\n",
       "      <td>0.271796</td>\n",
       "      <td>7699.13</td>\n",
       "      <td>7750.09</td>\n",
       "      <td>7724.30</td>\n",
       "    </tr>\n",
       "    <tr>\n",
       "      <th>07/23/18 23:00:00</th>\n",
       "      <td>0.074246</td>\n",
       "      <td>0.231640</td>\n",
       "      <td>7754.57</td>\n",
       "      <td>7722.32</td>\n",
       "      <td>7749.63</td>\n",
       "    </tr>\n",
       "    <tr>\n",
       "      <th>07/24/18 00:00:00</th>\n",
       "      <td>0.080870</td>\n",
       "      <td>0.219367</td>\n",
       "      <td>7722.95</td>\n",
       "      <td>7719.62</td>\n",
       "      <td>7715.44</td>\n",
       "    </tr>\n",
       "    <tr>\n",
       "      <th>07/24/18 01:00:00</th>\n",
       "      <td>0.090717</td>\n",
       "      <td>0.212626</td>\n",
       "      <td>7712.46</td>\n",
       "      <td>7723.22</td>\n",
       "      <td>7708.50</td>\n",
       "    </tr>\n",
       "  </tbody>\n",
       "</table>\n",
       "<p>295 rows × 5 columns</p>\n",
       "</div>"
      ],
      "text/plain": [
       "                   Polarity Rate  Sensitivity Rate     Open    Close  \\\n",
       "Date                                                                   \n",
       "07/11/18 19:00:00       0.109705          0.187557  6353.73  6342.96   \n",
       "07/11/18 20:00:00       0.102657          0.216148  6342.97  6350.00   \n",
       "07/11/18 21:00:00       0.098004          0.218612  6352.99  6356.48   \n",
       "07/11/18 22:00:00       0.096688          0.231342  6350.85  6361.93   \n",
       "07/11/18 23:00:00       0.103997          0.217739  6362.36  6368.78   \n",
       "...                          ...               ...      ...      ...   \n",
       "07/23/18 21:00:00       0.107282          0.235636  7746.99  7706.00   \n",
       "07/23/18 22:00:00       0.094493          0.271796  7699.13  7750.09   \n",
       "07/23/18 23:00:00       0.074246          0.231640  7754.57  7722.32   \n",
       "07/24/18 00:00:00       0.080870          0.219367  7722.95  7719.62   \n",
       "07/24/18 01:00:00       0.090717          0.212626  7712.46  7723.22   \n",
       "\n",
       "                   Weighted Price  \n",
       "Date                               \n",
       "07/11/18 19:00:00         6348.41  \n",
       "07/11/18 20:00:00         6315.33  \n",
       "07/11/18 21:00:00         6359.53  \n",
       "07/11/18 22:00:00         6354.12  \n",
       "07/11/18 23:00:00         6368.23  \n",
       "...                           ...  \n",
       "07/23/18 21:00:00         7729.06  \n",
       "07/23/18 22:00:00         7724.30  \n",
       "07/23/18 23:00:00         7749.63  \n",
       "07/24/18 00:00:00         7715.44  \n",
       "07/24/18 01:00:00         7708.50  \n",
       "\n",
       "[295 rows x 5 columns]"
      ]
     },
     "execution_count": 22,
     "metadata": {},
     "output_type": "execute_result"
    }
   ],
   "source": [
    "#dropping all rows where 'Open', 'Close', and 'Weighted Price' have a value of 'NaN'\n",
    "df.dropna(subset=['Open'],inplace=True)\n",
    "df"
   ]
  },
  {
   "cell_type": "code",
   "execution_count": 23,
   "metadata": {},
   "outputs": [
    {
     "data": {
      "text/plain": [
       "Polarity Rate       float64\n",
       "Sensitivity Rate    float64\n",
       "Open                float64\n",
       "Close               float64\n",
       "Weighted Price      float64\n",
       "dtype: object"
      ]
     },
     "execution_count": 23,
     "metadata": {},
     "output_type": "execute_result"
    }
   ],
   "source": [
    "#Display data types\n",
    "df.dtypes"
   ]
  },
  {
   "cell_type": "code",
   "execution_count": 24,
   "metadata": {},
   "outputs": [
    {
     "name": "stdout",
     "output_type": "stream",
     "text": [
      "Dataset has 5 features and 295 observations\n"
     ]
    }
   ],
   "source": [
    "print('Dataset has {0} features and {1} observations'.format(df.shape[1], df.shape[0]))"
   ]
  },
  {
   "cell_type": "code",
   "execution_count": 25,
   "metadata": {},
   "outputs": [
    {
     "data": {
      "image/png": "[encoded data removed]",
      "text/plain": [
       "<Figure size 432x288 with 1 Axes>"
      ]
     },
     "metadata": {
      "needs_background": "light"
     },
     "output_type": "display_data"
    }
   ],
   "source": [
    "#plotting graph for comparison between Polarity Rate and Sensitivity Rate\n",
    "plt.plot(df.index,df['Polarity Rate'],'blue')\n",
    "plt.plot(df.index,df['Sensitivity Rate'],'red')\n",
    "plt.title('Polarity and Sensitivity Rate change per date')\n",
    "plt.xticks(rotation='vertical')\n",
    "plt.ylabel('Rate')\n",
    "plt.show()"
   ]
  },
  {
   "cell_type": "code",
   "execution_count": 26,
   "metadata": {},
   "outputs": [
    {
     "data": {
      "image/png": "[encoded data removed]",
      "text/plain": [
       "<Figure size 432x288 with 1 Axes>"
      ]
     },
     "metadata": {
      "needs_background": "light"
     },
     "output_type": "display_data"
    }
   ],
   "source": [
    "#Plotting graph for comparison between Open Price, Close Price, and Weighted Price. It will help us compare it to the rate changes found above\n",
    "plt.plot(df.index,df['Open'],'blue')\n",
    "plt.plot(df.index,df['Close'],'green')\n",
    "plt.plot(df.index,df['Weighted Price'],'red')\n",
    "plt.title('BTC price change per date')\n",
    "plt.xticks(rotation='vertical')\n",
    "plt.ylabel('Price')\n",
    "plt.xlabel('Date')\n",
    "plt.show()"
   ]
  },
  {
   "cell_type": "code",
   "execution_count": 27,
   "metadata": {},
   "outputs": [
    {
     "data": {
      "image/png": "[encoded data removed]",
      "text/plain": [
       "<Figure size 432x288 with 2 Axes>"
      ]
     },
     "metadata": {
      "needs_background": "light"
     },
     "output_type": "display_data"
    }
   ],
   "source": [
    "#Same measure done through heat map\n",
    "pt=sns.heatmap(df)"
   ]
  },
  {
   "cell_type": "code",
   "execution_count": 28,
   "metadata": {},
   "outputs": [
    {
     "data": {
      "text/html": [
       "<div>\n",
       "<style scoped>\n",
       "    .dataframe tbody tr th:only-of-type {\n",
       "        vertical-align: middle;\n",
       "    }\n",
       "\n",
       "    .dataframe tbody tr th {\n",
       "        vertical-align: top;\n",
       "    }\n",
       "\n",
       "    .dataframe thead th {\n",
       "        text-align: right;\n",
       "    }\n",
       "</style>\n",
       "<table border=\"1\" class=\"dataframe\">\n",
       "  <thead>\n",
       "    <tr style=\"text-align: right;\">\n",
       "      <th></th>\n",
       "      <th>Polarity Rate</th>\n",
       "      <th>Sensitivity Rate</th>\n",
       "      <th>Open</th>\n",
       "      <th>Close</th>\n",
       "      <th>Weighted Price</th>\n",
       "    </tr>\n",
       "  </thead>\n",
       "  <tbody>\n",
       "    <tr>\n",
       "      <th>count</th>\n",
       "      <td>295.000000</td>\n",
       "      <td>295.000000</td>\n",
       "      <td>295.000000</td>\n",
       "      <td>295.000000</td>\n",
       "      <td>295.000000</td>\n",
       "    </tr>\n",
       "    <tr>\n",
       "      <th>mean</th>\n",
       "      <td>0.099569</td>\n",
       "      <td>0.214051</td>\n",
       "      <td>6913.445593</td>\n",
       "      <td>6918.193424</td>\n",
       "      <td>6916.565932</td>\n",
       "    </tr>\n",
       "    <tr>\n",
       "      <th>std</th>\n",
       "      <td>0.012108</td>\n",
       "      <td>0.014994</td>\n",
       "      <td>564.454789</td>\n",
       "      <td>565.461902</td>\n",
       "      <td>565.868731</td>\n",
       "    </tr>\n",
       "    <tr>\n",
       "      <th>min</th>\n",
       "      <td>0.051695</td>\n",
       "      <td>0.174330</td>\n",
       "      <td>6149.110000</td>\n",
       "      <td>6149.110000</td>\n",
       "      <td>6141.240000</td>\n",
       "    </tr>\n",
       "    <tr>\n",
       "      <th>25%</th>\n",
       "      <td>0.091504</td>\n",
       "      <td>0.203351</td>\n",
       "      <td>6291.335000</td>\n",
       "      <td>6289.995000</td>\n",
       "      <td>6293.130000</td>\n",
       "    </tr>\n",
       "    <tr>\n",
       "      <th>50%</th>\n",
       "      <td>0.099247</td>\n",
       "      <td>0.214576</td>\n",
       "      <td>7276.700000</td>\n",
       "      <td>7276.990000</td>\n",
       "      <td>7278.190000</td>\n",
       "    </tr>\n",
       "    <tr>\n",
       "      <th>75%</th>\n",
       "      <td>0.106705</td>\n",
       "      <td>0.223888</td>\n",
       "      <td>7422.645000</td>\n",
       "      <td>7424.130000</td>\n",
       "      <td>7425.630000</td>\n",
       "    </tr>\n",
       "    <tr>\n",
       "      <th>max</th>\n",
       "      <td>0.135088</td>\n",
       "      <td>0.271796</td>\n",
       "      <td>7754.570000</td>\n",
       "      <td>7750.090000</td>\n",
       "      <td>7764.460000</td>\n",
       "    </tr>\n",
       "  </tbody>\n",
       "</table>\n",
       "</div>"
      ],
      "text/plain": [
       "       Polarity Rate  Sensitivity Rate         Open        Close  \\\n",
       "count     295.000000        295.000000   295.000000   295.000000   \n",
       "mean        0.099569          0.214051  6913.445593  6918.193424   \n",
       "std         0.012108          0.014994   564.454789   565.461902   \n",
       "min         0.051695          0.174330  6149.110000  6149.110000   \n",
       "25%         0.091504          0.203351  6291.335000  6289.995000   \n",
       "50%         0.099247          0.214576  7276.700000  7276.990000   \n",
       "75%         0.106705          0.223888  7422.645000  7424.130000   \n",
       "max         0.135088          0.271796  7754.570000  7750.090000   \n",
       "\n",
       "       Weighted Price  \n",
       "count      295.000000  \n",
       "mean      6916.565932  \n",
       "std        565.868731  \n",
       "min       6141.240000  \n",
       "25%       6293.130000  \n",
       "50%       7278.190000  \n",
       "75%       7425.630000  \n",
       "max       7764.460000  "
      ]
     },
     "execution_count": 28,
     "metadata": {},
     "output_type": "execute_result"
    }
   ],
   "source": [
    "# Generate descriptive statistics that summarize the central tendency, dispersion and shape of a dataset's distribution, excluding NaN values\n",
    "df.describe()"
   ]
  },
  {
   "cell_type": "code",
   "execution_count": 29,
   "metadata": {},
   "outputs": [
    {
     "data": {
      "text/html": [
       "<div>\n",
       "<style scoped>\n",
       "    .dataframe tbody tr th:only-of-type {\n",
       "        vertical-align: middle;\n",
       "    }\n",
       "\n",
       "    .dataframe tbody tr th {\n",
       "        vertical-align: top;\n",
       "    }\n",
       "\n",
       "    .dataframe thead th {\n",
       "        text-align: right;\n",
       "    }\n",
       "</style>\n",
       "<table border=\"1\" class=\"dataframe\">\n",
       "  <thead>\n",
       "    <tr style=\"text-align: right;\">\n",
       "      <th></th>\n",
       "      <th>Polarity Rate</th>\n",
       "      <th>Sensitivity Rate</th>\n",
       "      <th>Open</th>\n",
       "      <th>Close</th>\n",
       "      <th>Weighted Price</th>\n",
       "    </tr>\n",
       "  </thead>\n",
       "  <tbody>\n",
       "    <tr>\n",
       "      <th>Polarity Rate</th>\n",
       "      <td>1.000000</td>\n",
       "      <td>0.372817</td>\n",
       "      <td>0.175708</td>\n",
       "      <td>0.175021</td>\n",
       "      <td>0.174373</td>\n",
       "    </tr>\n",
       "    <tr>\n",
       "      <th>Sensitivity Rate</th>\n",
       "      <td>0.372817</td>\n",
       "      <td>1.000000</td>\n",
       "      <td>0.199377</td>\n",
       "      <td>0.197966</td>\n",
       "      <td>0.200544</td>\n",
       "    </tr>\n",
       "    <tr>\n",
       "      <th>Open</th>\n",
       "      <td>0.175708</td>\n",
       "      <td>0.199377</td>\n",
       "      <td>1.000000</td>\n",
       "      <td>0.997226</td>\n",
       "      <td>0.998365</td>\n",
       "    </tr>\n",
       "    <tr>\n",
       "      <th>Close</th>\n",
       "      <td>0.175021</td>\n",
       "      <td>0.197966</td>\n",
       "      <td>0.997226</td>\n",
       "      <td>1.000000</td>\n",
       "      <td>0.999433</td>\n",
       "    </tr>\n",
       "    <tr>\n",
       "      <th>Weighted Price</th>\n",
       "      <td>0.174373</td>\n",
       "      <td>0.200544</td>\n",
       "      <td>0.998365</td>\n",
       "      <td>0.999433</td>\n",
       "      <td>1.000000</td>\n",
       "    </tr>\n",
       "  </tbody>\n",
       "</table>\n",
       "</div>"
      ],
      "text/plain": [
       "                  Polarity Rate  Sensitivity Rate      Open     Close  \\\n",
       "Polarity Rate          1.000000          0.372817  0.175708  0.175021   \n",
       "Sensitivity Rate       0.372817          1.000000  0.199377  0.197966   \n",
       "Open                   0.175708          0.199377  1.000000  0.997226   \n",
       "Close                  0.175021          0.197966  0.997226  1.000000   \n",
       "Weighted Price         0.174373          0.200544  0.998365  0.999433   \n",
       "\n",
       "                  Weighted Price  \n",
       "Polarity Rate           0.174373  \n",
       "Sensitivity Rate        0.200544  \n",
       "Open                    0.998365  \n",
       "Close                   0.999433  \n",
       "Weighted Price          1.000000  "
      ]
     },
     "execution_count": 29,
     "metadata": {},
     "output_type": "execute_result"
    }
   ],
   "source": [
    "#Generating correlation statistics\n",
    "df.corr()"
   ]
  },
  {
   "cell_type": "code",
   "execution_count": 30,
   "metadata": {},
   "outputs": [
    {
     "data": {
      "text/plain": [
       "<AxesSubplot:xlabel='Polarity Rate', ylabel='Weighted Price'>"
      ]
     },
     "execution_count": 30,
     "metadata": {},
     "output_type": "execute_result"
    },
    {
     "data": {
      "image/png": "[encoded data removed]",
      "text/plain": [
       "<Figure size 432x288 with 1 Axes>"
      ]
     },
     "metadata": {
      "needs_background": "light"
     },
     "output_type": "display_data"
    }
   ],
   "source": [
    "sns.regplot(x=df[\"Polarity Rate\"], y=df[\"Weighted Price\"])"
   ]
  },
  {
   "cell_type": "code",
   "execution_count": 31,
   "metadata": {},
   "outputs": [
    {
     "data": {
      "text/plain": [
       "<AxesSubplot:xlabel='Sensitivity Rate', ylabel='Weighted Price'>"
      ]
     },
     "execution_count": 31,
     "metadata": {},
     "output_type": "execute_result"
    },
    {
     "data": {
      "image/png": "[encoded data removed]",
      "text/plain": [
       "<Figure size 432x288 with 1 Axes>"
      ]
     },
     "metadata": {
      "needs_background": "light"
     },
     "output_type": "display_data"
    }
   ],
   "source": [
    "sns.regplot(x=df[\"Sensitivity Rate\"], y=df[\"Weighted Price\"])"
   ]
  },
  {
   "cell_type": "code",
   "execution_count": 32,
   "metadata": {},
   "outputs": [
    {
     "data": {
      "image/png": "[encoded data removed]",
      "text/plain": [
       "<Figure size 720x720 with 30 Axes>"
      ]
     },
     "metadata": {},
     "output_type": "display_data"
    }
   ],
   "source": [
    "sns.set()\n",
    "cols = ['Polarity Rate','Sensitivity Rate','Open','Close','Weighted Price']\n",
    "sns.pairplot(df[cols],height=2)\n",
    "plt.show()"
   ]
  },
  {
   "cell_type": "code",
   "execution_count": 33,
   "metadata": {},
   "outputs": [],
   "source": [
    "#EDA END"
   ]
  },
  {
   "cell_type": "code",
   "execution_count": 34,
   "metadata": {},
   "outputs": [],
   "source": [
    "#Modeling"
   ]
  },
  {
   "cell_type": "code",
   "execution_count": 35,
   "metadata": {},
   "outputs": [],
   "source": [
    "#df_train = pd.concat([train_cat_c,train_num],axis=1)\n",
    "#df_train.info()"
   ]
  },
  {
   "cell_type": "code",
   "execution_count": 36,
   "metadata": {},
   "outputs": [
    {
     "data": {
      "text/html": [
       "<div>\n",
       "<style scoped>\n",
       "    .dataframe tbody tr th:only-of-type {\n",
       "        vertical-align: middle;\n",
       "    }\n",
       "\n",
       "    .dataframe tbody tr th {\n",
       "        vertical-align: top;\n",
       "    }\n",
       "\n",
       "    .dataframe thead th {\n",
       "        text-align: right;\n",
       "    }\n",
       "</style>\n",
       "<table border=\"1\" class=\"dataframe\">\n",
       "  <thead>\n",
       "    <tr style=\"text-align: right;\">\n",
       "      <th></th>\n",
       "      <th>0</th>\n",
       "      <th>1</th>\n",
       "      <th>2</th>\n",
       "      <th>3</th>\n",
       "      <th>4</th>\n",
       "    </tr>\n",
       "  </thead>\n",
       "  <tbody>\n",
       "    <tr>\n",
       "      <th>0</th>\n",
       "      <td>0.695621</td>\n",
       "      <td>0.135711</td>\n",
       "      <td>0.127453</td>\n",
       "      <td>0.121082</td>\n",
       "      <td>0.127629</td>\n",
       "    </tr>\n",
       "    <tr>\n",
       "      <th>1</th>\n",
       "      <td>0.611105</td>\n",
       "      <td>0.429055</td>\n",
       "      <td>0.120751</td>\n",
       "      <td>0.125479</td>\n",
       "      <td>0.107250</td>\n",
       "    </tr>\n",
       "    <tr>\n",
       "      <th>2</th>\n",
       "      <td>0.555312</td>\n",
       "      <td>0.454335</td>\n",
       "      <td>0.126992</td>\n",
       "      <td>0.129527</td>\n",
       "      <td>0.134479</td>\n",
       "    </tr>\n",
       "    <tr>\n",
       "      <th>3</th>\n",
       "      <td>0.539534</td>\n",
       "      <td>0.584943</td>\n",
       "      <td>0.125659</td>\n",
       "      <td>0.132931</td>\n",
       "      <td>0.131147</td>\n",
       "    </tr>\n",
       "    <tr>\n",
       "      <th>4</th>\n",
       "      <td>0.627175</td>\n",
       "      <td>0.445375</td>\n",
       "      <td>0.132828</td>\n",
       "      <td>0.137210</td>\n",
       "      <td>0.139839</td>\n",
       "    </tr>\n",
       "  </tbody>\n",
       "</table>\n",
       "</div>"
      ],
      "text/plain": [
       "          0         1         2         3         4\n",
       "0  0.695621  0.135711  0.127453  0.121082  0.127629\n",
       "1  0.611105  0.429055  0.120751  0.125479  0.107250\n",
       "2  0.555312  0.454335  0.126992  0.129527  0.134479\n",
       "3  0.539534  0.584943  0.125659  0.132931  0.131147\n",
       "4  0.627175  0.445375  0.132828  0.137210  0.139839"
      ]
     },
     "execution_count": 36,
     "metadata": {},
     "output_type": "execute_result"
    }
   ],
   "source": [
    "from sklearn.preprocessing import MinMaxScaler\n",
    "minmax = MinMaxScaler().fit(df[['Polarity Rate','Sensitivity Rate','Open','Close','Weighted Price']].astype('float32'))\n",
    "df_scaled = minmax.transform(df[['Polarity Rate','Sensitivity Rate','Open','Close','Weighted Price']].astype('float32'))\n",
    "df_scaled = pd.DataFrame(df_scaled)\n",
    "df_scaled.head()"
   ]
  },
  {
   "cell_type": "code",
   "execution_count": 37,
   "metadata": {},
   "outputs": [],
   "source": [
    "#Taking Polarity Rate as target variable\n",
    "y = df['Polarity Rate']"
   ]
  },
  {
   "cell_type": "code",
   "execution_count": 38,
   "metadata": {},
   "outputs": [],
   "source": [
    "from sklearn.model_selection import train_test_split\n",
    "from sklearn.datasets import make_classification\n",
    "from sklearn.model_selection import KFold\n",
    "\n",
    "X_train,X_test,Y_train,Y_test = train_test_split(df_scaled,y,test_size=0.25,train_size=0.75,random_state=1)"
   ]
  },
  {
   "cell_type": "code",
   "execution_count": 39,
   "metadata": {},
   "outputs": [
    {
     "data": {
      "text/plain": [
       "(221, 5)"
      ]
     },
     "execution_count": 39,
     "metadata": {},
     "output_type": "execute_result"
    }
   ],
   "source": [
    "X_train.shape"
   ]
  },
  {
   "cell_type": "code",
   "execution_count": 40,
   "metadata": {},
   "outputs": [
    {
     "data": {
      "text/plain": [
       "(221,)"
      ]
     },
     "execution_count": 40,
     "metadata": {},
     "output_type": "execute_result"
    }
   ],
   "source": [
    "Y_train.shape"
   ]
  },
  {
   "cell_type": "code",
   "execution_count": 41,
   "metadata": {},
   "outputs": [
    {
     "data": {
      "text/plain": [
       "(74, 5)"
      ]
     },
     "execution_count": 41,
     "metadata": {},
     "output_type": "execute_result"
    }
   ],
   "source": [
    "X_test.shape"
   ]
  },
  {
   "cell_type": "code",
   "execution_count": 42,
   "metadata": {},
   "outputs": [
    {
     "data": {
      "text/plain": [
       "(74,)"
      ]
     },
     "execution_count": 42,
     "metadata": {},
     "output_type": "execute_result"
    }
   ],
   "source": [
    "Y_test.shape"
   ]
  },
  {
   "cell_type": "code",
   "execution_count": 43,
   "metadata": {},
   "outputs": [],
   "source": [
    "#CLASSIFIERS"
   ]
  },
  {
   "cell_type": "code",
   "execution_count": 44,
   "metadata": {},
   "outputs": [
    {
     "data": {
      "text/html": [
       "<div>\n",
       "<style scoped>\n",
       "    .dataframe tbody tr th:only-of-type {\n",
       "        vertical-align: middle;\n",
       "    }\n",
       "\n",
       "    .dataframe tbody tr th {\n",
       "        vertical-align: top;\n",
       "    }\n",
       "\n",
       "    .dataframe thead th {\n",
       "        text-align: right;\n",
       "    }\n",
       "</style>\n",
       "<table border=\"1\" class=\"dataframe\">\n",
       "  <thead>\n",
       "    <tr style=\"text-align: right;\">\n",
       "      <th></th>\n",
       "      <th>Date</th>\n",
       "      <th>Tweet</th>\n",
       "      <th>Polarity Rate</th>\n",
       "      <th>Sensitivity Rate</th>\n",
       "      <th>VADER Score</th>\n",
       "    </tr>\n",
       "  </thead>\n",
       "  <tbody>\n",
       "    <tr>\n",
       "      <th>0</th>\n",
       "      <td>07/11/18 19:00:00</td>\n",
       "      <td>b\"Next two weeks prob v boring (climb up to 9k...</td>\n",
       "      <td>0.007273</td>\n",
       "      <td>0.590909</td>\n",
       "      <td>{'neg': 0.095, 'neu': 0.785, 'pos': 0.12, 'com...</td>\n",
       "    </tr>\n",
       "    <tr>\n",
       "      <th>1</th>\n",
       "      <td>07/11/18 19:00:00</td>\n",
       "      <td>b'@Miss_rinola But you\\xe2\\x80\\x99ve heard abo...</td>\n",
       "      <td>0.000000</td>\n",
       "      <td>0.000000</td>\n",
       "      <td>{'neg': 0.0, 'neu': 1.0, 'pos': 0.0, 'compound...</td>\n",
       "    </tr>\n",
       "    <tr>\n",
       "      <th>2</th>\n",
       "      <td>07/11/18 19:00:00</td>\n",
       "      <td>b'Duplicate skilled traders automatically with...</td>\n",
       "      <td>0.625000</td>\n",
       "      <td>0.500000</td>\n",
       "      <td>{'neg': 0.0, 'neu': 1.0, 'pos': 0.0, 'compound...</td>\n",
       "    </tr>\n",
       "    <tr>\n",
       "      <th>3</th>\n",
       "      <td>07/11/18 19:00:00</td>\n",
       "      <td>b'Project Manager - Technical - FinTech - Cent...</td>\n",
       "      <td>0.000000</td>\n",
       "      <td>0.175000</td>\n",
       "      <td>{'neg': 0.0, 'neu': 1.0, 'pos': 0.0, 'compound...</td>\n",
       "    </tr>\n",
       "    <tr>\n",
       "      <th>4</th>\n",
       "      <td>07/11/18 19:00:00</td>\n",
       "      <td>b'Coinbase App Downloads Drop, Crypto Hype Fad...</td>\n",
       "      <td>0.333333</td>\n",
       "      <td>0.500000</td>\n",
       "      <td>{'neg': 0.123, 'neu': 0.877, 'pos': 0.0, 'comp...</td>\n",
       "    </tr>\n",
       "    <tr>\n",
       "      <th>5</th>\n",
       "      <td>07/11/18 19:00:00</td>\n",
       "      <td>b'If you don\\xe2\\x80\\x99t understand Bitcoin, ...</td>\n",
       "      <td>0.000000</td>\n",
       "      <td>0.000000</td>\n",
       "      <td>{'neg': 0.0, 'neu': 1.0, 'pos': 0.0, 'compound...</td>\n",
       "    </tr>\n",
       "  </tbody>\n",
       "</table>\n",
       "</div>"
      ],
      "text/plain": [
       "                Date                                              Tweet  \\\n",
       "0  07/11/18 19:00:00  b\"Next two weeks prob v boring (climb up to 9k...   \n",
       "1  07/11/18 19:00:00  b'@Miss_rinola But you\\xe2\\x80\\x99ve heard abo...   \n",
       "2  07/11/18 19:00:00  b'Duplicate skilled traders automatically with...   \n",
       "3  07/11/18 19:00:00  b'Project Manager - Technical - FinTech - Cent...   \n",
       "4  07/11/18 19:00:00  b'Coinbase App Downloads Drop, Crypto Hype Fad...   \n",
       "5  07/11/18 19:00:00  b'If you don\\xe2\\x80\\x99t understand Bitcoin, ...   \n",
       "\n",
       "   Polarity Rate  Sensitivity Rate  \\\n",
       "0       0.007273          0.590909   \n",
       "1       0.000000          0.000000   \n",
       "2       0.625000          0.500000   \n",
       "3       0.000000          0.175000   \n",
       "4       0.333333          0.500000   \n",
       "5       0.000000          0.000000   \n",
       "\n",
       "                                         VADER Score  \n",
       "0  {'neg': 0.095, 'neu': 0.785, 'pos': 0.12, 'com...  \n",
       "1  {'neg': 0.0, 'neu': 1.0, 'pos': 0.0, 'compound...  \n",
       "2  {'neg': 0.0, 'neu': 1.0, 'pos': 0.0, 'compound...  \n",
       "3  {'neg': 0.0, 'neu': 1.0, 'pos': 0.0, 'compound...  \n",
       "4  {'neg': 0.123, 'neu': 0.877, 'pos': 0.0, 'comp...  \n",
       "5  {'neg': 0.0, 'neu': 1.0, 'pos': 0.0, 'compound...  "
      ]
     },
     "execution_count": 44,
     "metadata": {},
     "output_type": "execute_result"
    }
   ],
   "source": [
    "#CLASSIFIER 1: VADER\n",
    "#Vader:\n",
    "from nltk.sentiment.vader import SentimentIntensityAnalyzer\n",
    "#nltk.download('vader_lexicon')\n",
    "sid = SentimentIntensityAnalyzer()\n",
    "\n",
    "data['VADER Score'] = data['Tweet'].apply(lambda Description: sid.polarity_scores(Description))\n",
    "data.head(6)"
   ]
  },
  {
   "cell_type": "code",
   "execution_count": 45,
   "metadata": {},
   "outputs": [],
   "source": [
    "data['compound'] = data['VADER Score'].apply(lambda score_dict: score_dict['compound'])\n",
    "data['Sentiment_type'] = ''\n",
    "data.loc[data.compound>0,'Sentiment_type']='POSITIVE'\n",
    "data.loc[data.compound==0,'Sentiment_type']='NEUTRAL'\n",
    "data.loc[data.compound<0,'Sentiment_type']='NEGATIVE'"
   ]
  },
  {
   "cell_type": "code",
   "execution_count": 46,
   "metadata": {},
   "outputs": [
    {
     "data": {
      "text/plain": [
       "Text(0, 0.5, 'Number of Tweets')"
      ]
     },
     "execution_count": 46,
     "metadata": {},
     "output_type": "execute_result"
    },
    {
     "data": {
      "image/png": "[encoded data removed]",
      "text/plain": [
       "<Figure size 432x288 with 1 Axes>"
      ]
     },
     "metadata": {},
     "output_type": "display_data"
    }
   ],
   "source": [
    "data.Sentiment_type.value_counts().plot(kind='bar',title='Sentiment Analysis')\n",
    "plt.xlabel('Sentiments',labelpad=14)\n",
    "plt.ylabel('Number of Tweets',labelpad=14)"
   ]
  }
 ],
 "metadata": {
  "kernelspec": {
   "display_name": "Python 3",
   "language": "python",
   "name": "python3"
  },
  "language_info": {
   "codemirror_mode": {
    "name": "ipython",
    "version": 3
   },
   "file_extension": ".py",
   "mimetype": "text/x-python",
   "name": "python",
   "nbconvert_exporter": "python",
   "pygments_lexer": "ipython3",
   "version": "3.7.6"
  }
 },
 "nbformat": 4,
 "nbformat_minor": 4
}
